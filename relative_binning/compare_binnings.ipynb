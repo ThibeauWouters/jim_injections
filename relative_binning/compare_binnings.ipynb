{
 "cells": [
  {
   "cell_type": "markdown",
   "metadata": {},
   "source": [
    "# Comparing the binning schemes"
   ]
  },
  {
   "cell_type": "code",
   "execution_count": 1,
   "metadata": {},
   "outputs": [],
   "source": [
    "import numpy as np\n",
    "import matplotlib.pyplot as plt"
   ]
  },
  {
   "cell_type": "code",
   "execution_count": 5,
   "metadata": {},
   "outputs": [],
   "source": [
    "binning_dir = \"./binnings/\"\n",
    "original_binning_filename = f\"{binning_dir}freq_grid_rb_original.npz\"\n",
    "new_binning_filename = f\"{binning_dir}freq_grid_rb_new.npz\""
   ]
  },
  {
   "cell_type": "code",
   "execution_count": 6,
   "metadata": {},
   "outputs": [],
   "source": [
    "original_binning_filename = np.load(original_binning_filename)\n",
    "new_binning_filename = np.load(new_binning_filename)\n",
    "\n",
    "freq_grid_original = original_binning_filename[\"freq_grid\"]\n",
    "freq_grid_center_original = original_binning_filename[\"freq_grid_center\"]\n",
    "\n",
    "freq_grid_new = new_binning_filename[\"freq_grid\"]\n",
    "freq_grid_center_new = new_binning_filename[\"freq_grid_center\"]"
   ]
  },
  {
   "cell_type": "code",
   "execution_count": 8,
   "metadata": {},
   "outputs": [
    {
     "name": "stdout",
     "output_type": "stream",
     "text": [
      "101\n",
      "8455\n"
     ]
    }
   ],
   "source": [
    "print(len(freq_grid_original) )\n",
    "print(len(freq_grid_new))"
   ]
  },
  {
   "cell_type": "code",
   "execution_count": null,
   "metadata": {},
   "outputs": [],
   "source": []
  }
 ],
 "metadata": {
  "kernelspec": {
   "display_name": "Python 3",
   "language": "python",
   "name": "python3"
  },
  "language_info": {
   "codemirror_mode": {
    "name": "ipython",
    "version": 3
   },
   "file_extension": ".py",
   "mimetype": "text/x-python",
   "name": "python",
   "nbconvert_exporter": "python",
   "pygments_lexer": "ipython3",
   "version": "3.10.13"
  },
  "orig_nbformat": 4
 },
 "nbformat": 4,
 "nbformat_minor": 2
}
