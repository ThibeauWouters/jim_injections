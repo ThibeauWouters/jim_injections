{
 "cells": [
  {
   "cell_type": "markdown",
   "metadata": {},
   "source": [
    "# Comparing the binning schemes"
   ]
  },
  {
   "cell_type": "code",
   "execution_count": 23,
   "metadata": {},
   "outputs": [],
   "source": [
    "import numpy as np\n",
    "import matplotlib.pyplot as plt"
   ]
  },
  {
   "cell_type": "code",
   "execution_count": 24,
   "metadata": {},
   "outputs": [],
   "source": [
    "binning_dir = \"./binnings/\"\n",
    "which_run = \"injection_1\"\n",
    "\n",
    "# Get a dict with the keys being the waveform and the values being a dict with the keys being either og and new, and the values being the corresponding frequency grid\n",
    "binnings_dict = {}\n",
    "for wf in [\"TaylorF2\", \"IMRPhenomD_NRTidalv2\"]:\n",
    "    binnings_dict[wf] = {}\n",
    "    for ext in [\"og\", \"new\"]:\n",
    "        filename = f\"{binning_dir}{which_run}_{wf}_{ext}.npz\"\n",
    "        data = np.load(filename)\n",
    "        freq_grid = data[\"freq_grid\"] # neglect freq_grid_center for now\n",
    "        binnings_dict[wf][ext] = freq_grid"
   ]
  },
  {
   "cell_type": "markdown",
   "metadata": {},
   "source": [
    "Compare lengths for TF2 and NRTv2"
   ]
  },
  {
   "cell_type": "code",
   "execution_count": 26,
   "metadata": {},
   "outputs": [
    {
     "name": "stdout",
     "output_type": "stream",
     "text": [
      "101\n",
      "101\n",
      "1001\n",
      "8455\n"
     ]
    }
   ],
   "source": [
    "print(len(binnings_dict[\"TaylorF2\"][\"og\"]))\n",
    "print(len(binnings_dict[\"IMRPhenomD_NRTidalv2\"][\"og\"]))\n",
    "\n",
    "print(len(binnings_dict[\"TaylorF2\"][\"new\"])) #actually the og, overwritten!!!\n",
    "print(len(binnings_dict[\"IMRPhenomD_NRTidalv2\"][\"new\"]))"
   ]
  },
  {
   "cell_type": "markdown",
   "metadata": {},
   "source": [
    "Are they equal? NOTE: TaylorF2 new is TaylorF2 OG: accidentally overwritten"
   ]
  },
  {
   "cell_type": "code",
   "execution_count": 28,
   "metadata": {},
   "outputs": [],
   "source": [
    "# np.allclose(binnings_dict[\"TaylorF2\"][\"new\"], binnings_dict[\"IMRPhenomD_NRTidalv2\"][\"new\"]) # overwritten!!!"
   ]
  },
  {
   "cell_type": "markdown",
   "metadata": {},
   "source": [
    "Spacings checking"
   ]
  },
  {
   "cell_type": "code",
   "execution_count": 19,
   "metadata": {},
   "outputs": [],
   "source": [
    "# spacings_TF2 = np.ediff1d(binnings_dict[\"TaylorF2\"][\"new\"])\n",
    "spacings_NRTv2_og = np.ediff1d(binnings_dict[\"IMRPhenomD_NRTidalv2\"][\"og\"])\n",
    "spacings_NRTv2_new = np.ediff1d(binnings_dict[\"IMRPhenomD_NRTidalv2\"][\"new\"])"
   ]
  },
  {
   "cell_type": "code",
   "execution_count": 22,
   "metadata": {},
   "outputs": [
    {
     "data": {
      "text/plain": [
       "100"
      ]
     },
     "execution_count": 22,
     "metadata": {},
     "output_type": "execute_result"
    }
   ],
   "source": [
    "len(spacings_NRTv2_og)"
   ]
  },
  {
   "cell_type": "code",
   "execution_count": 17,
   "metadata": {},
   "outputs": [
    {
     "data": {
      "text/plain": [
       "array([0.00622608, 0.00623004, 0.006234  , ..., 0.21573067, 0.21570588,\n",
       "       0.21568109])"
      ]
     },
     "execution_count": 17,
     "metadata": {},
     "output_type": "execute_result"
    }
   ],
   "source": [
    "spacings_NRTv2"
   ]
  },
  {
   "cell_type": "markdown",
   "metadata": {},
   "source": [
    "# Archive"
   ]
  },
  {
   "cell_type": "markdown",
   "metadata": {},
   "source": [
    "Plotting the bins just visually"
   ]
  },
  {
   "cell_type": "code",
   "execution_count": 6,
   "metadata": {},
   "outputs": [
    {
     "name": "stdout",
     "output_type": "stream",
     "text": [
      "len(freq_grid_original)\n",
      "101\n",
      "len(freq_grid_new)\n",
      "8455\n"
     ]
    },
    {
     "data": {
      "image/png": "[encoded data removed]",
      "text/plain": [
       "<Figure size 640x480 with 1 Axes>"
      ]
     },
     "metadata": {},
     "output_type": "display_data"
    }
   ],
   "source": [
    "# plt.scatter(freq_grid_original, np.ones_like(freq_grid_original), label=\"Original\")\n",
    "# plt.scatter(freq_grid_new, 2*np.ones_like(freq_grid_new), label=\"New\")\n",
    "# print(\"len(freq_grid_original)\")\n",
    "# print(len(freq_grid_original))\n",
    "# print(\"len(freq_grid_new)\")\n",
    "# print(len(freq_grid_new))\n",
    "# plt.legend()\n",
    "# plt.xscale(\"log\")\n",
    "# plt.xlabel(\"Frequency (Hz)\")\n",
    "# plt.ylabel(\"Binning\")\n",
    "# plt.show()"
   ]
  },
  {
   "cell_type": "code",
   "execution_count": 7,
   "metadata": {},
   "outputs": [
    {
     "data": {
      "text/plain": [
       "array([  20.        ,   20.00622608,   20.01245613, ..., 2047.56080053,\n",
       "       2047.77650641, 2047.9921875 ])"
      ]
     },
     "execution_count": 7,
     "metadata": {},
     "output_type": "execute_result"
    }
   ],
   "source": [
    "freq_grid_new"
   ]
  },
  {
   "cell_type": "markdown",
   "metadata": {},
   "source": [
    "What is ordinary grid spacing?"
   ]
  },
  {
   "cell_type": "code",
   "execution_count": 9,
   "metadata": {},
   "outputs": [
    {
     "name": "stdout",
     "output_type": "stream",
     "text": [
      "259584.0\n"
     ]
    }
   ],
   "source": [
    "duration = 128\n",
    "delta_f = 1.0 / duration\n",
    "\n",
    "# How many delta f's fit into 20, 2048 Hz?\n",
    "_n_bins = (2048 - 20) / delta_f\n",
    "print(_n_bins)"
   ]
  },
  {
   "cell_type": "code",
   "execution_count": null,
   "metadata": {},
   "outputs": [],
   "source": []
  }
 ],
 "metadata": {
  "kernelspec": {
   "display_name": "Python 3",
   "language": "python",
   "name": "python3"
  },
  "language_info": {
   "codemirror_mode": {
    "name": "ipython",
    "version": 3
   },
   "file_extension": ".py",
   "mimetype": "text/x-python",
   "name": "python",
   "nbconvert_exporter": "python",
   "pygments_lexer": "ipython3",
   "version": "3.10.13"
  },
  "orig_nbformat": 4
 },
 "nbformat": 4,
 "nbformat_minor": 2
}
