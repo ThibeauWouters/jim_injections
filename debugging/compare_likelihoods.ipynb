{
 "cells": [
  {
   "cell_type": "markdown",
   "metadata": {},
   "source": [
    "# Compare likelihoods "
   ]
  },
  {
   "cell_type": "markdown",
   "metadata": {},
   "source": [
    "Debugging the relative binning likelihood and the problem of weird peaking of the Mc likelihood values"
   ]
  },
  {
   "cell_type": "markdown",
   "metadata": {},
   "source": [
    "Also see the .py script, which came first"
   ]
  },
  {
   "cell_type": "markdown",
   "metadata": {},
   "source": [
    "## Preamble"
   ]
  },
  {
   "cell_type": "markdown",
   "metadata": {},
   "source": [
    "### Imports and jim prior setup"
   ]
  },
  {
   "cell_type": "code",
   "execution_count": 1,
   "metadata": {},
   "outputs": [],
   "source": [
    "import psutil\n",
    "p = psutil.Process()\n",
    "p.cpu_affinity([0])\n",
    "\n",
    "from tqdm import tqdm\n",
    "import json\n",
    "import numpy as np\n",
    "import os\n",
    "import jax\n",
    "import jax.numpy as jnp\n",
    "from jimgw.prior import Uniform, Composite\n",
    "import matplotlib.pyplot as plt\n",
    "import pickle\n",
    "\n",
    "from save_likelihoods import NAMING as naming \n",
    "from save_likelihoods import PRIOR\n",
    "\n",
    "prior_ranges = jnp.array([PRIOR[name] for name in naming])\n",
    "prior_low, prior_high = prior_ranges[:, 0], prior_ranges[:, 1]\n",
    "\n",
    "N_samples = 50"
   ]
  },
  {
   "cell_type": "code",
   "execution_count": 2,
   "metadata": {},
   "outputs": [
    {
     "name": "stdout",
     "output_type": "stream",
     "text": [
      "Finished prior setup\n"
     ]
    }
   ],
   "source": [
    "# Priors without transformation\n",
    "Mc_prior = Uniform(prior_low[0], prior_high[0], naming=['M_c'])\n",
    "q_prior = Uniform(prior_low[1], prior_high[1], naming=['q'],\n",
    "                    transforms={\n",
    "    'q': (\n",
    "        'eta',\n",
    "        lambda params: params['q'] /\n",
    "        (1 + params['q']) ** 2\n",
    "    )\n",
    "}\n",
    ")\n",
    "s1z_prior = Uniform(prior_low[2], prior_high[2], naming=['s1_z'])\n",
    "s2z_prior = Uniform(prior_low[3], prior_high[3], naming=['s2_z'])\n",
    "lambda_1_prior = Uniform(prior_low[4], prior_high[4], naming=['lambda_1'])\n",
    "lambda_2_prior = Uniform(prior_low[5], prior_high[5], naming=['lambda_2'])\n",
    "dL_prior = Uniform(prior_low[6], prior_high[6], naming=['d_L'])\n",
    "tc_prior = Uniform(prior_low[7], prior_high[7], naming=['t_c'])\n",
    "phic_prior = Uniform(prior_low[8], prior_high[8], naming=['phase_c'])\n",
    "cos_iota_prior = Uniform(prior_low[9], prior_high[9], naming=[\"cos_iota\"],\n",
    "                            transforms={\n",
    "    \"cos_iota\": (\n",
    "        \"iota\",\n",
    "        lambda params: jnp.arccos(\n",
    "            jnp.arcsin(\n",
    "                jnp.sin(params[\"cos_iota\"] / 2 * jnp.pi)) * 2 / jnp.pi\n",
    "        ),\n",
    "    )\n",
    "},\n",
    ")\n",
    "psi_prior = Uniform(prior_low[10], prior_high[10], naming=[\"psi\"])\n",
    "ra_prior = Uniform(prior_low[11], prior_high[11], naming=[\"ra\"])\n",
    "sin_dec_prior = Uniform(prior_low[12], prior_high[12], naming=[\"sin_dec\"],\n",
    "                        transforms={\n",
    "    \"sin_dec\": (\n",
    "        \"dec\",\n",
    "        lambda params: jnp.arcsin(\n",
    "            jnp.arcsin(\n",
    "                jnp.sin(params[\"sin_dec\"] / 2 * jnp.pi)) * 2 / jnp.pi\n",
    "        ),\n",
    "    )\n",
    "},\n",
    ")\n",
    "\n",
    "# Compose the prior\n",
    "prior_list = [\n",
    "    Mc_prior,\n",
    "    q_prior,\n",
    "    s1z_prior,\n",
    "    s2z_prior,\n",
    "    lambda_1_prior,\n",
    "    lambda_2_prior,\n",
    "    dL_prior,\n",
    "    tc_prior,\n",
    "    phic_prior,\n",
    "    cos_iota_prior, # 9\n",
    "    psi_prior, # 10\n",
    "    ra_prior, # 11\n",
    "    sin_dec_prior, # 12\n",
    "]\n",
    "complete_prior = Composite(prior_list)\n",
    "bounds = jnp.array([[p.xmin, p.xmax] for p in complete_prior.priors])\n",
    "print(\"Finished prior setup\")"
   ]
  },
  {
   "cell_type": "code",
   "execution_count": 3,
   "metadata": {},
   "outputs": [],
   "source": [
    "jim_path = './outdir/injection_14/likelihood.pkl'\n",
    "bilby_path = \"/home/narola.bharatbhai/jim_bilby_crosscheck/jim/bilby_runs/injection_14/update_theta_jn_injection_14_result.json\" # on CIT!"
   ]
  },
  {
   "cell_type": "markdown",
   "metadata": {},
   "source": [
    "### Load jim data"
   ]
  },
  {
   "cell_type": "code",
   "execution_count": 4,
   "metadata": {},
   "outputs": [],
   "source": [
    "# Load config.json\n",
    "with open(f'./outdir/injection_14/config.json', 'r') as f:\n",
    "    config = json.load(f)\n",
    "    \n",
    "true_params_np = np.array([config[p] for p in naming])\n",
    "true_mc = true_params_np[0]\n",
    "\n",
    "# Convert cos_iota to iota, sin_dec to dec\n",
    "true_params_np[9] = jnp.arccos(true_params_np[9])\n",
    "true_params_np[12] = jnp.arcsin(true_params_np[12])\n",
    "\n",
    "# Load jim chains\n",
    "\n",
    "jim_data = np.load(f'./outdir/injection_14/results_production.npz')\n",
    "jim_chains, jim_log_prob = jim_data[\"chains\"], jim_data[\"log_prob\"]\n",
    "\n",
    "jim_chains = np.array(jim_chains)\n",
    "jim_chains = np.reshape(jim_chains, (-1, 13))\n",
    "\n",
    "jim_log_prob = np.reshape(jim_log_prob, (-1,))\n",
    "\n",
    "# Thin the samples a bit\n",
    "jump = 100\n",
    "jim_chains = jim_chains[::jump]\n",
    "jim_log_prob = jim_log_prob[::jump]"
   ]
  },
  {
   "cell_type": "code",
   "execution_count": 5,
   "metadata": {},
   "outputs": [],
   "source": [
    "# Load likelihood with pickle\n",
    "with open(jim_path, 'rb') as f:\n",
    "    my_likelihood = pickle.load(f)"
   ]
  },
  {
   "cell_type": "markdown",
   "metadata": {},
   "source": [
    "### Load bilby data"
   ]
  },
  {
   "cell_type": "code",
   "execution_count": 6,
   "metadata": {},
   "outputs": [
    {
     "name": "stdout",
     "output_type": "stream",
     "text": [
      "Loading bilby data\n",
      "(12189, 13)\n"
     ]
    }
   ],
   "source": [
    "# Load the bilby data \n",
    "print(\"Loading bilby data\")\n",
    "with open(bilby_path, \"r\") as f:\n",
    "    bilby_data = json.load(f)\n",
    "bilby_posterior = bilby_data[\"posterior\"][\"content\"]\n",
    "\n",
    "bilby_naming = ['chirp_mass',\n",
    "          'mass_ratio',\n",
    "          'chi_1',\n",
    "          'chi_2',\n",
    "          'lambda_1',\n",
    "          'lambda_2',\n",
    "          'luminosity_distance',\n",
    "          'geocent_time',\n",
    "          'phase',\n",
    "          'theta_jn',\n",
    "          'psi',\n",
    "          'ra',\n",
    "          'dec'] # note we also have: # 'log_likelihood', 'log_prior'\n",
    "\n",
    "bilby_chains = np.array([bilby_posterior[name] for name in bilby_naming])\n",
    "bilby_chains = bilby_chains.T\n",
    "\n",
    "print(np.shape(bilby_chains))"
   ]
  },
  {
   "cell_type": "markdown",
   "metadata": {},
   "source": [
    "## Comparing bilby output to jim likelihood"
   ]
  },
  {
   "cell_type": "markdown",
   "metadata": {},
   "source": [
    "### jim likelihood"
   ]
  },
  {
   "cell_type": "code",
   "execution_count": 7,
   "metadata": {},
   "outputs": [
    {
     "name": "stdout",
     "output_type": "stream",
     "text": [
      "np.mean(jim_prior_prob)\n",
      "-22.479974306343404\n",
      "(7500,)\n"
     ]
    }
   ],
   "source": [
    "prior_params = complete_prior.add_name(jim_chains.T)\n",
    "jim_prior_prob = complete_prior.log_prob(prior_params)\n",
    "\n",
    "print(\"np.mean(jim_prior_prob)\")\n",
    "print(np.mean(jim_prior_prob))\n",
    "\n",
    "jim_log_likelihood = jim_log_prob - jim_prior_prob\n",
    "\n",
    "print(np.shape(jim_log_likelihood))\n",
    "\n",
    "mc_jim = jim_chains[:, 0]"
   ]
  },
  {
   "cell_type": "markdown",
   "metadata": {},
   "source": [
    "### bilby likelihood"
   ]
  },
  {
   "cell_type": "code",
   "execution_count": 8,
   "metadata": {},
   "outputs": [],
   "source": [
    "bilby_log_likelihood = np.array(bilby_posterior['log_likelihood'])\n",
    "bilby_log_prior = np.array(bilby_posterior['log_prior'])\n",
    "log_prob = bilby_log_likelihood + bilby_log_prior"
   ]
  },
  {
   "cell_type": "markdown",
   "metadata": {},
   "source": [
    "### Comparison"
   ]
  },
  {
   "cell_type": "code",
   "execution_count": 9,
   "metadata": {},
   "outputs": [
    {
     "data": {
      "image/png": "[encoded data removed]",
      "text/plain": [
       "<Figure size 640x480 with 1 Axes>"
      ]
     },
     "metadata": {},
     "output_type": "display_data"
    }
   ],
   "source": [
    "np.shape(bilby_chains)\n",
    "mc_bilby = bilby_chains[:, 0]\n",
    "plt.hist(mc_bilby, bins=100, histtype='step', density=True, linewidth=2)\n",
    "plt.axvline(np.mean(mc_bilby), color='green', label = 'Mean chains')\n",
    "plt.axvline(true_mc, color='red', label = 'True value')\n",
    "plt.legend()\n",
    "plt.xlabel('Chirp mass')\n",
    "plt.ylabel('Density')\n",
    "plt.show()"
   ]
  },
  {
   "cell_type": "code",
   "execution_count": null,
   "metadata": {},
   "outputs": [],
   "source": []
  },
  {
   "cell_type": "code",
   "execution_count": 10,
   "metadata": {},
   "outputs": [
    {
     "data": {
      "image/png": "[encoded data removed]",
      "text/plain": [
       "<Figure size 1000x500 with 1 Axes>"
      ]
     },
     "metadata": {},
     "output_type": "display_data"
    }
   ],
   "source": [
    "alpha = 0.5\n",
    "# Argsort the the Mc and sort likelihood as well there\n",
    "argsort = np.argsort(mc_bilby)\n",
    "mc_bilby_sorted = mc_bilby[argsort]\n",
    "bilby_log_likelihood_sorted = bilby_log_likelihood[argsort]\n",
    "\n",
    "argsort = np.argsort(mc_jim)\n",
    "mc_jim_sorted = mc_jim[argsort]\n",
    "jim_log_likelihood_sorted = jim_log_likelihood[argsort]\n",
    "\n",
    "# Plot\n",
    "plt.figure(figsize=(10, 5))\n",
    "plt.plot(mc_bilby_sorted, bilby_log_likelihood_sorted, color = \"blue\", label = \"Bilby\", alpha = alpha)\n",
    "plt.plot(mc_jim_sorted, jim_log_likelihood_sorted, color = \"orange\", label = \"jim\", alpha = alpha)\n",
    "plt.axvline(true_mc, color='black', label = 'True value')\n",
    "# Limit\n",
    "mc_std = 0.0005\n",
    "mc_left = true_mc - mc_std\n",
    "mc_right = true_mc + mc_std\n",
    "plt.xlim(mc_left, mc_right)\n",
    "plt.xlabel(r'$\\mathcal{M}_c \\ [M_\\odot]$')\n",
    "plt.ylabel(r'$\\ln \\mathcal{L}$')\n",
    "plt.legend()\n",
    "plt.show()"
   ]
  },
  {
   "cell_type": "code",
   "execution_count": 11,
   "metadata": {},
   "outputs": [],
   "source": [
    "# # Evaluate the likelihood object also separately at the true parameters\n",
    "# N_samples = 50\n",
    "# mc_values = np.linspace(mc_left, mc_right, N_samples)\n",
    "\n",
    "# my_params = np.vstack(N_samples * [true_params_np])\n",
    "# print(np.shape(my_params))\n",
    "\n",
    "# my_params[:, 0] = mc_values\n",
    "# my_params = jnp.array(my_params)\n",
    "\n",
    "# my_params_stacked = jnp.array(my_params).T\n",
    "# my_params_stacked_named = complete_prior.add_name(my_params_stacked)\n",
    "\n",
    "# # Convert cos_iota to iota, sin_dec to dec, and q to eta\n",
    "# my_params_stacked_named[\"iota\"] = jnp.arccos(my_params_stacked_named[\"cos_iota\"])\n",
    "# my_params_stacked_named[\"dec\"] = jnp.arcsin(my_params_stacked_named[\"sin_dec\"])\n",
    "# q = my_params_stacked_named[\"q\"]\n",
    "# my_params_stacked_named[\"eta\"] = q / (1 + q)**2\n",
    "\n",
    "# likelihood_evaluate_vmap = jax.vmap(my_likelihood.evaluate, in_axes=(0, None))\n",
    "# likelihood_evaluate_original_vmap = jax.vmap(my_likelihood.evaluate_original, in_axes=(0, None))\n",
    "\n",
    "# my_log_likelihoods = likelihood_evaluate_vmap(my_params_stacked_named, {})"
   ]
  },
  {
   "cell_type": "code",
   "execution_count": 17,
   "metadata": {},
   "outputs": [
    {
     "data": {
      "text/plain": [
       "array([ 1.95686776e+00,  8.77416200e-01,  9.73511040e-03,\n",
       "        4.89805909e-02,  1.06468360e+03,  3.72372209e+03,\n",
       "        1.26182182e+02, -2.36038967e-02,  3.23858522e+00,\n",
       "        2.64086195e+00,  5.16157902e-01,  5.97810112e+00,\n",
       "       -1.94474493e-02])"
      ]
     },
     "execution_count": 17,
     "metadata": {},
     "output_type": "execute_result"
    }
   ],
   "source": [
    "true_params_np"
   ]
  },
  {
   "cell_type": "code",
   "execution_count": 16,
   "metadata": {},
   "outputs": [
    {
     "name": "stdout",
     "output_type": "stream",
     "text": [
      "(50, 13)\n"
     ]
    },
    {
     "name": "stderr",
     "output_type": "stream",
     "text": [
      "  4%|▍         | 2/50 [00:01<00:33,  1.44it/s]"
     ]
    },
    {
     "name": "stdout",
     "output_type": "stream",
     "text": [
      "nan\n",
      "nan\n"
     ]
    },
    {
     "name": "stderr",
     "output_type": "stream",
     "text": [
      "  8%|▊         | 4/50 [00:01<00:15,  3.03it/s]"
     ]
    },
    {
     "name": "stdout",
     "output_type": "stream",
     "text": [
      "nan\n",
      "nan\n"
     ]
    },
    {
     "name": "stderr",
     "output_type": "stream",
     "text": [
      " 10%|█         | 5/50 [00:02<00:12,  3.64it/s]"
     ]
    },
    {
     "name": "stdout",
     "output_type": "stream",
     "text": [
      "nan\n"
     ]
    },
    {
     "name": "stderr",
     "output_type": "stream",
     "text": [
      " 14%|█▍        | 7/50 [00:02<00:10,  4.04it/s]"
     ]
    },
    {
     "name": "stdout",
     "output_type": "stream",
     "text": [
      "nan\n",
      "nan\n"
     ]
    },
    {
     "name": "stderr",
     "output_type": "stream",
     "text": [
      " 18%|█▊        | 9/50 [00:02<00:07,  5.24it/s]"
     ]
    },
    {
     "name": "stdout",
     "output_type": "stream",
     "text": [
      "nan\n",
      "nan\n"
     ]
    },
    {
     "name": "stderr",
     "output_type": "stream",
     "text": [
      " 22%|██▏       | 11/50 [00:03<00:06,  5.81it/s]"
     ]
    },
    {
     "name": "stdout",
     "output_type": "stream",
     "text": [
      "nan\n",
      "nan\n"
     ]
    },
    {
     "name": "stderr",
     "output_type": "stream",
     "text": [
      " 26%|██▌       | 13/50 [00:03<00:05,  6.22it/s]"
     ]
    },
    {
     "name": "stdout",
     "output_type": "stream",
     "text": [
      "nan\n",
      "nan\n"
     ]
    },
    {
     "name": "stderr",
     "output_type": "stream",
     "text": [
      " 30%|███       | 15/50 [00:03<00:05,  6.40it/s]"
     ]
    },
    {
     "name": "stdout",
     "output_type": "stream",
     "text": [
      "nan\n",
      "nan\n"
     ]
    },
    {
     "name": "stderr",
     "output_type": "stream",
     "text": [
      " 34%|███▍      | 17/50 [00:04<00:04,  6.89it/s]"
     ]
    },
    {
     "name": "stdout",
     "output_type": "stream",
     "text": [
      "nan\n",
      "nan\n"
     ]
    },
    {
     "name": "stderr",
     "output_type": "stream",
     "text": [
      " 38%|███▊      | 19/50 [00:04<00:04,  6.36it/s]"
     ]
    },
    {
     "name": "stdout",
     "output_type": "stream",
     "text": [
      "nan\n",
      "nan\n"
     ]
    },
    {
     "name": "stderr",
     "output_type": "stream",
     "text": [
      " 42%|████▏     | 21/50 [00:04<00:04,  6.47it/s]"
     ]
    },
    {
     "name": "stdout",
     "output_type": "stream",
     "text": [
      "nan\n",
      "nan\n"
     ]
    },
    {
     "name": "stderr",
     "output_type": "stream",
     "text": [
      " 46%|████▌     | 23/50 [00:04<00:03,  6.77it/s]"
     ]
    },
    {
     "name": "stdout",
     "output_type": "stream",
     "text": [
      "nan\n",
      "nan\n"
     ]
    },
    {
     "name": "stderr",
     "output_type": "stream",
     "text": [
      " 50%|█████     | 25/50 [00:05<00:03,  6.29it/s]"
     ]
    },
    {
     "name": "stdout",
     "output_type": "stream",
     "text": [
      "nan\n",
      "nan\n"
     ]
    },
    {
     "name": "stderr",
     "output_type": "stream",
     "text": [
      " 54%|█████▍    | 27/50 [00:05<00:03,  6.44it/s]"
     ]
    },
    {
     "name": "stdout",
     "output_type": "stream",
     "text": [
      "nan\n",
      "nan\n"
     ]
    },
    {
     "name": "stderr",
     "output_type": "stream",
     "text": [
      " 58%|█████▊    | 29/50 [00:05<00:03,  6.75it/s]"
     ]
    },
    {
     "name": "stdout",
     "output_type": "stream",
     "text": [
      "nan\n",
      "nan\n"
     ]
    },
    {
     "name": "stderr",
     "output_type": "stream",
     "text": [
      " 62%|██████▏   | 31/50 [00:06<00:03,  6.16it/s]"
     ]
    },
    {
     "name": "stdout",
     "output_type": "stream",
     "text": [
      "nan\n",
      "nan\n"
     ]
    },
    {
     "name": "stderr",
     "output_type": "stream",
     "text": [
      " 66%|██████▌   | 33/50 [00:06<00:02,  6.35it/s]"
     ]
    },
    {
     "name": "stdout",
     "output_type": "stream",
     "text": [
      "nan\n",
      "nan\n"
     ]
    },
    {
     "name": "stderr",
     "output_type": "stream",
     "text": [
      " 70%|███████   | 35/50 [00:06<00:02,  7.02it/s]"
     ]
    },
    {
     "name": "stdout",
     "output_type": "stream",
     "text": [
      "nan\n",
      "nan\n"
     ]
    },
    {
     "name": "stderr",
     "output_type": "stream",
     "text": [
      " 74%|███████▍  | 37/50 [00:07<00:01,  7.03it/s]"
     ]
    },
    {
     "name": "stdout",
     "output_type": "stream",
     "text": [
      "nan\n",
      "nan\n"
     ]
    },
    {
     "name": "stderr",
     "output_type": "stream",
     "text": [
      " 78%|███████▊  | 39/50 [00:07<00:01,  6.35it/s]"
     ]
    },
    {
     "name": "stdout",
     "output_type": "stream",
     "text": [
      "nan\n",
      "nan\n"
     ]
    },
    {
     "name": "stderr",
     "output_type": "stream",
     "text": [
      " 82%|████████▏ | 41/50 [00:07<00:01,  6.88it/s]"
     ]
    },
    {
     "name": "stdout",
     "output_type": "stream",
     "text": [
      "nan\n",
      "nan\n"
     ]
    },
    {
     "name": "stderr",
     "output_type": "stream",
     "text": [
      " 86%|████████▌ | 43/50 [00:08<00:01,  6.85it/s]"
     ]
    },
    {
     "name": "stdout",
     "output_type": "stream",
     "text": [
      "nan\n",
      "nan\n"
     ]
    },
    {
     "name": "stderr",
     "output_type": "stream",
     "text": [
      " 90%|█████████ | 45/50 [00:08<00:00,  6.29it/s]"
     ]
    },
    {
     "name": "stdout",
     "output_type": "stream",
     "text": [
      "nan\n",
      "nan\n"
     ]
    },
    {
     "name": "stderr",
     "output_type": "stream",
     "text": [
      " 94%|█████████▍| 47/50 [00:08<00:00,  6.82it/s]"
     ]
    },
    {
     "name": "stdout",
     "output_type": "stream",
     "text": [
      "nan\n",
      "nan\n"
     ]
    },
    {
     "name": "stderr",
     "output_type": "stream",
     "text": [
      " 98%|█████████▊| 49/50 [00:08<00:00,  6.85it/s]"
     ]
    },
    {
     "name": "stdout",
     "output_type": "stream",
     "text": [
      "nan\n",
      "nan\n"
     ]
    },
    {
     "name": "stderr",
     "output_type": "stream",
     "text": [
      "100%|██████████| 50/50 [00:09<00:00,  5.51it/s]"
     ]
    },
    {
     "name": "stdout",
     "output_type": "stream",
     "text": [
      "nan\n",
      "(50,)\n"
     ]
    },
    {
     "name": "stderr",
     "output_type": "stream",
     "text": [
      "\n"
     ]
    }
   ],
   "source": [
    "# Evaluate the likelihood object also separately at the true parameters\n",
    "N_samples = 50\n",
    "mc_values = np.linspace(mc_left, mc_right, N_samples)\n",
    "\n",
    "my_params = np.vstack(N_samples * [true_params_np])\n",
    "print(np.shape(my_params))\n",
    "\n",
    "my_params[:, 0] = mc_values\n",
    "my_params = jnp.array(my_params)\n",
    "\n",
    "### Evaluate the likelihood at these:\n",
    "my_log_likelihoods = []\n",
    "for param in tqdm(my_params):\n",
    "    my_params_named = complete_prior.add_name(param)\n",
    "\n",
    "    # Convert cos_iota to iota, sin_dec to dec, q to eta\n",
    "    my_params_named[\"iota\"] = jnp.arccos(my_params_named[\"cos_iota\"])\n",
    "    my_params_named[\"dec\"] = jnp.arcsin(my_params_named[\"sin_dec\"])\n",
    "    q = my_params_named[\"q\"]\n",
    "    my_params_named[\"eta\"] = q / (1 + q) ** 2\n",
    "    value = my_likelihood.evaluate_original(my_params_named, {})\n",
    "    print(value)\n",
    "    my_log_likelihoods.append(value)\n",
    "\n",
    "my_log_likelihood = np.array(my_log_likelihoods)\n",
    "print(np.shape(my_log_likelihood))"
   ]
  },
  {
   "cell_type": "code",
   "execution_count": 13,
   "metadata": {},
   "outputs": [
    {
     "data": {
      "text/plain": [
       "[Array(nan, dtype=float64),\n",
       " Array(nan, dtype=float64),\n",
       " Array(nan, dtype=float64),\n",
       " Array(nan, dtype=float64),\n",
       " Array(nan, dtype=float64),\n",
       " Array(nan, dtype=float64),\n",
       " Array(nan, dtype=float64),\n",
       " Array(nan, dtype=float64),\n",
       " Array(nan, dtype=float64),\n",
       " Array(nan, dtype=float64),\n",
       " Array(nan, dtype=float64),\n",
       " Array(nan, dtype=float64),\n",
       " Array(nan, dtype=float64),\n",
       " Array(nan, dtype=float64),\n",
       " Array(nan, dtype=float64),\n",
       " Array(nan, dtype=float64),\n",
       " Array(nan, dtype=float64),\n",
       " Array(nan, dtype=float64),\n",
       " Array(nan, dtype=float64),\n",
       " Array(nan, dtype=float64),\n",
       " Array(nan, dtype=float64),\n",
       " Array(nan, dtype=float64),\n",
       " Array(nan, dtype=float64),\n",
       " Array(nan, dtype=float64),\n",
       " Array(nan, dtype=float64),\n",
       " Array(nan, dtype=float64),\n",
       " Array(nan, dtype=float64),\n",
       " Array(nan, dtype=float64),\n",
       " Array(nan, dtype=float64),\n",
       " Array(nan, dtype=float64),\n",
       " Array(nan, dtype=float64),\n",
       " Array(nan, dtype=float64),\n",
       " Array(nan, dtype=float64),\n",
       " Array(nan, dtype=float64),\n",
       " Array(nan, dtype=float64),\n",
       " Array(nan, dtype=float64),\n",
       " Array(nan, dtype=float64),\n",
       " Array(nan, dtype=float64),\n",
       " Array(nan, dtype=float64),\n",
       " Array(nan, dtype=float64),\n",
       " Array(nan, dtype=float64),\n",
       " Array(nan, dtype=float64),\n",
       " Array(nan, dtype=float64),\n",
       " Array(nan, dtype=float64),\n",
       " Array(nan, dtype=float64),\n",
       " Array(nan, dtype=float64),\n",
       " Array(nan, dtype=float64),\n",
       " Array(nan, dtype=float64),\n",
       " Array(nan, dtype=float64),\n",
       " Array(nan, dtype=float64)]"
      ]
     },
     "execution_count": 13,
     "metadata": {},
     "output_type": "execute_result"
    }
   ],
   "source": [
    "my_log_likelihoods"
   ]
  },
  {
   "cell_type": "code",
   "execution_count": 14,
   "metadata": {},
   "outputs": [
    {
     "data": {
      "image/png": "[encoded data removed]",
      "text/plain": [
       "<Figure size 1000x500 with 1 Axes>"
      ]
     },
     "metadata": {},
     "output_type": "display_data"
    }
   ],
   "source": [
    "alpha = 0.5\n",
    "# Argsort the the Mc and sort likelihood as well there\n",
    "argsort = np.argsort(mc_bilby)\n",
    "mc_bilby_sorted = mc_bilby[argsort]\n",
    "bilby_log_likelihood_sorted = bilby_log_likelihood[argsort]\n",
    "\n",
    "argsort = np.argsort(mc_jim)\n",
    "mc_jim_sorted = mc_jim[argsort]\n",
    "jim_log_likelihood_sorted = jim_log_likelihood[argsort]\n",
    "\n",
    "# Plot\n",
    "plt.figure(figsize=(10, 5))\n",
    "plt.plot(mc_bilby_sorted, bilby_log_likelihood_sorted, color = \"blue\", label = \"Bilby\", alpha = alpha)\n",
    "plt.plot(mc_jim_sorted, jim_log_likelihood_sorted, color = \"orange\", label = \"jim run\", alpha = alpha)\n",
    "plt.axvline(true_mc, color='black', linestyle = \"--\", label = 'True value')\n",
    "plt.plot(mc_values, my_log_likelihoods, color = \"red\", label = \"jim likelihood\", alpha = alpha)\n",
    "# Limit\n",
    "mc_std = 0.0005\n",
    "mc_left = true_mc - mc_std\n",
    "plt.xlim(true_mc - mc_std, true_mc + mc_std)\n",
    "plt.xlabel(r'$\\mathcal{M}_c \\ [M_\\odot]$')\n",
    "plt.ylabel(r'$\\ln \\mathcal{L}$')\n",
    "plt.legend()\n",
    "plt.show()"
   ]
  },
  {
   "cell_type": "code",
   "execution_count": 15,
   "metadata": {},
   "outputs": [
    {
     "data": {
      "text/plain": [
       "array([nan, nan, nan, nan, nan, nan, nan, nan, nan, nan, nan,\n",
       "       nan, nan, nan, nan, nan, nan, nan, nan, nan, nan, nan,\n",
       "       nan, nan, nan, nan, nan, nan, nan, nan, nan, nan, nan,\n",
       "       nan, nan, nan, nan, nan, nan, nan, nan, nan, nan, nan,\n",
       "       nan, nan, nan, nan, nan, nan])"
      ]
     },
     "execution_count": 15,
     "metadata": {},
     "output_type": "execute_result"
    }
   ],
   "source": [
    "my_log_likelihood"
   ]
  },
  {
   "cell_type": "code",
   "execution_count": null,
   "metadata": {},
   "outputs": [],
   "source": []
  }
 ],
 "metadata": {
  "kernelspec": {
   "display_name": "Python 3",
   "language": "python",
   "name": "python3"
  },
  "language_info": {
   "codemirror_mode": {
    "name": "ipython",
    "version": 3
   },
   "file_extension": ".py",
   "mimetype": "text/x-python",
   "name": "python",
   "nbconvert_exporter": "python",
   "pygments_lexer": "ipython3",
   "version": "3.10.13"
  },
  "orig_nbformat": 4
 },
 "nbformat": 4,
 "nbformat_minor": 2
}
