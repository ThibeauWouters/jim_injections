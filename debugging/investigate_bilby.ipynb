{
 "cells": [
  {
   "cell_type": "markdown",
   "metadata": {},
   "source": [
    "# Investigating bilby"
   ]
  },
  {
   "cell_type": "markdown",
   "metadata": {},
   "source": [
    "Trying to learn what goes into bilby etc."
   ]
  },
  {
   "cell_type": "markdown",
   "metadata": {},
   "source": [
    "## Preamble"
   ]
  },
  {
   "cell_type": "code",
   "execution_count": 10,
   "metadata": {},
   "outputs": [
    {
     "name": "stdout",
     "output_type": "stream",
     "text": [
      "[CpuDevice(id=0)]\n"
     ]
    }
   ],
   "source": [
    "import psutil\n",
    "p = psutil.Process()\n",
    "p.cpu_affinity([0])\n",
    "\n",
    "import os\n",
    "os.environ[\"CUDA_VISIBLE_DEVICES\"] = \"-1\"\n",
    "\n",
    "from tqdm import tqdm\n",
    "import json\n",
    "import numpy as np\n",
    "\n",
    "import jax\n",
    "print(jax.devices())\n",
    "import jax.numpy as jnp\n",
    "from jimgw.prior import Uniform, Composite\n",
    "import matplotlib.pyplot as plt\n",
    "import pickle\n",
    "\n",
    "# from save_likelihoods import NAMING as naming \n",
    "# from save_likelihoods import PRIOR\n",
    "\n",
    "t_c = -0.023603896693900103\n",
    "trigger_time = 1187008882.43"
   ]
  },
  {
   "cell_type": "markdown",
   "metadata": {},
   "source": [
    "## Loading data"
   ]
  },
  {
   "cell_type": "code",
   "execution_count": 2,
   "metadata": {},
   "outputs": [],
   "source": [
    "bilby_path = \"/home/twouters2/data/update_theta_jn_injection_14_result.json\" # on snellius"
   ]
  },
  {
   "cell_type": "code",
   "execution_count": 3,
   "metadata": {},
   "outputs": [
    {
     "name": "stdout",
     "output_type": "stream",
     "text": [
      "Loading bilby data\n",
      "(12189, 13)\n"
     ]
    }
   ],
   "source": [
    "# Load the bilby data \n",
    "print(\"Loading bilby data\")\n",
    "with open(bilby_path, \"r\") as f:\n",
    "    bilby_data = json.load(f)\n",
    "bilby_posterior = bilby_data[\"posterior\"][\"content\"]\n",
    "\n",
    "bilby_naming = ['chirp_mass',\n",
    "          'mass_ratio',\n",
    "          'chi_1',\n",
    "          'chi_2',\n",
    "          'lambda_1',\n",
    "          'lambda_2',\n",
    "          'luminosity_distance',\n",
    "          'geocent_time',\n",
    "          'phase',\n",
    "          'theta_jn',\n",
    "          'psi',\n",
    "          'ra',\n",
    "          'dec'] # note we also have: # 'log_likelihood', 'log_prior'\n",
    "\n",
    "bilby_chains = np.array([bilby_posterior[name] for name in bilby_naming])\n",
    "bilby_chains = bilby_chains.T\n",
    "\n",
    "print(np.shape(bilby_chains))"
   ]
  },
  {
   "cell_type": "markdown",
   "metadata": {},
   "source": [
    "## Check bilby setup"
   ]
  },
  {
   "cell_type": "code",
   "execution_count": 5,
   "metadata": {},
   "outputs": [
    {
     "name": "stdout",
     "output_type": "stream",
     "text": [
      "dict_keys(['label', 'outdir', 'sampler', 'log_evidence', 'log_evidence_err', 'log_noise_evidence', 'log_bayes_factor', 'priors', 'posterior', 'injection_parameters', 'meta_data', 'search_parameter_keys', 'fixed_parameter_keys', 'constraint_parameter_keys', 'sampling_time', 'sampler_kwargs', 'use_ratio', 'information_gain', 'log_likelihood_evaluations', 'log_prior_evaluations', 'num_likelihood_evaluations', 'samples', 'nested_samples', 'parameter_labels', 'parameter_labels_with_unit', 'version'])\n"
     ]
    }
   ],
   "source": [
    "print(bilby_data.keys())"
   ]
  },
  {
   "cell_type": "code",
   "execution_count": 6,
   "metadata": {},
   "outputs": [],
   "source": [
    "priors = bilby_data[\"priors\"]\n",
    "injection_parameters = bilby_data[\"injection_parameters\"]"
   ]
  },
  {
   "cell_type": "code",
   "execution_count": 8,
   "metadata": {},
   "outputs": [
    {
     "name": "stdout",
     "output_type": "stream",
     "text": [
      "chirp_mass 1.9568677619484602\n",
      "mass_ratio 0.8774162003394455\n",
      "chi_1 0.009735110398633173\n",
      "chi_2 0.048980590878307986\n",
      "luminosity_distance 126.18218167071768\n",
      "theta_jn 2.640861949215473\n",
      "psi 0.5161579022094159\n",
      "phase 3.238585218011449\n",
      "geocent_time 1187008882.43\n",
      "ra 5.978101120559757\n",
      "dec -0.01944744929956209\n",
      "lambda_1 1064.683599128085\n",
      "lambda_2 3723.7220879878337\n"
     ]
    }
   ],
   "source": [
    "for key, item in injection_parameters.items():\n",
    "    print(key, item)"
   ]
  },
  {
   "cell_type": "code",
   "execution_count": 9,
   "metadata": {},
   "outputs": [
    {
     "name": "stdout",
     "output_type": "stream",
     "text": [
      "mass_1 {'__prior__': True, '__module__': 'bilby.core.prior.base', '__name__': 'Constraint', 'kwargs': {'minimum': 0.5, 'maximum': 5, 'name': 'mass_1', 'latex_label': '$m_1$', 'unit': None}}\n",
      "mass_2 {'__prior__': True, '__module__': 'bilby.core.prior.base', '__name__': 'Constraint', 'kwargs': {'minimum': 0.5, 'maximum': 5, 'name': 'mass_2', 'latex_label': '$m_2$', 'unit': None}}\n",
      "mass_ratio {'__prior__': True, '__module__': 'bilby.core.prior.analytical', '__name__': 'Uniform', 'kwargs': {'minimum': 0.125, 'maximum': 1.0, 'name': 'mass_ratio', 'latex_label': '$q$', 'unit': None, 'boundary': None}}\n",
      "chirp_mass {'__prior__': True, '__module__': 'bilby.core.prior.analytical', '__name__': 'Uniform', 'kwargs': {'minimum': 1.9468677619484602, 'maximum': 1.9668677619484602, 'name': 'chirp_mass', 'latex_label': '$\\\\mathcal{M}$', 'unit': '$M_{\\\\odot}$', 'boundary': None}}\n",
      "luminosity_distance {'__prior__': True, '__module__': 'bilby.gw.prior', '__name__': 'UniformComovingVolume', 'kwargs': {'minimum': 5.0, 'maximum': 22000.0, 'cosmology': 'Planck15', 'name': 'luminosity_distance', 'latex_label': '$D_L$', 'unit': 'Mpc', 'boundary': None}}\n",
      "dec {'__prior__': True, '__module__': 'bilby.core.prior.analytical', '__name__': 'Cosine', 'kwargs': {'minimum': -1.5707963267948966, 'maximum': 1.5707963267948966, 'name': 'dec', 'latex_label': '$\\\\mathrm{DEC}$', 'unit': None, 'boundary': None}}\n",
      "ra {'__prior__': True, '__module__': 'bilby.core.prior.analytical', '__name__': 'Uniform', 'kwargs': {'minimum': 0, 'maximum': 6.283185307179586, 'name': 'ra', 'latex_label': '$\\\\mathrm{RA}$', 'unit': None, 'boundary': 'periodic'}}\n",
      "theta_jn {'__prior__': True, '__module__': 'bilby.core.prior.analytical', '__name__': 'Sine', 'kwargs': {'minimum': 0, 'maximum': 3.141592653589793, 'name': 'theta_jn', 'latex_label': '$\\\\theta_{JN}$', 'unit': None, 'boundary': None}}\n",
      "psi {'__prior__': True, '__module__': 'bilby.core.prior.analytical', '__name__': 'Uniform', 'kwargs': {'minimum': 0, 'maximum': 3.141592653589793, 'name': 'psi', 'latex_label': '$\\\\psi$', 'unit': None, 'boundary': 'periodic'}}\n",
      "phase {'__prior__': True, '__module__': 'bilby.core.prior.analytical', '__name__': 'Uniform', 'kwargs': {'minimum': 0, 'maximum': 6.283185307179586, 'name': 'phase', 'latex_label': '$\\\\phi$', 'unit': None, 'boundary': 'periodic'}}\n",
      "chi_1 {'__prior__': True, '__module__': 'bilby.gw.prior', '__name__': 'AlignedSpin', 'kwargs': {'a_prior': {'__prior__': True, '__module__': 'bilby.core.prior.analytical', '__name__': 'Uniform', 'kwargs': {'minimum': 0, 'maximum': 0.05, 'name': None, 'latex_label': None, 'unit': None, 'boundary': None}}, 'z_prior': {'__prior__': True, '__module__': 'bilby.core.prior.analytical', '__name__': 'Uniform', 'kwargs': {'minimum': -1, 'maximum': 1, 'name': None, 'latex_label': None, 'unit': None, 'boundary': None}}, 'name': None, 'latex_label': None, 'unit': None, 'boundary': None, 'minimum': -0.05, 'maximum': 0.05}}\n",
      "chi_2 {'__prior__': True, '__module__': 'bilby.gw.prior', '__name__': 'AlignedSpin', 'kwargs': {'a_prior': {'__prior__': True, '__module__': 'bilby.core.prior.analytical', '__name__': 'Uniform', 'kwargs': {'minimum': 0, 'maximum': 0.05, 'name': None, 'latex_label': None, 'unit': None, 'boundary': None}}, 'z_prior': {'__prior__': True, '__module__': 'bilby.core.prior.analytical', '__name__': 'Uniform', 'kwargs': {'minimum': -1, 'maximum': 1, 'name': None, 'latex_label': None, 'unit': None, 'boundary': None}}, 'name': None, 'latex_label': None, 'unit': None, 'boundary': None, 'minimum': -0.05, 'maximum': 0.05}}\n",
      "lambda_1 {'__prior__': True, '__module__': 'bilby.core.prior.analytical', '__name__': 'Uniform', 'kwargs': {'minimum': 0, 'maximum': 5000, 'name': 'lambda_1', 'latex_label': '$\\\\Lambda_1$', 'unit': None, 'boundary': None}}\n",
      "lambda_2 {'__prior__': True, '__module__': 'bilby.core.prior.analytical', '__name__': 'Uniform', 'kwargs': {'minimum': 0, 'maximum': 5000, 'name': 'lambda_2', 'latex_label': '$\\\\Lambda_2$', 'unit': None, 'boundary': None}}\n",
      "geocent_time {'__prior__': True, '__module__': 'bilby.core.prior.analytical', '__name__': 'Uniform', 'kwargs': {'minimum': 1187008882.3300002, 'maximum': 1187008882.53, 'name': 'geocent_time', 'latex_label': '$t_c$', 'unit': '$s$', 'boundary': None}}\n",
      "__prior_dict__ True\n",
      "__module__ bilby.gw.prior\n",
      "__name__ BNSPriorDict\n"
     ]
    }
   ],
   "source": [
    "for key, item in priors.items():\n",
    "    print(key, item)"
   ]
  },
  {
   "cell_type": "code",
   "execution_count": 12,
   "metadata": {},
   "outputs": [
    {
     "name": "stdout",
     "output_type": "stream",
     "text": [
      "diff_trigger_time 0.0\n"
     ]
    }
   ],
   "source": [
    "min_geocent_time = 1187008882.3300002\n",
    "max_geocent_time = 1187008882.53\n",
    "\n",
    "range = max_geocent_time - min_geocent_time\n",
    "middle = (max_geocent_time + min_geocent_time) / 2\n",
    "\n",
    "diff_trigger_time = trigger_time - middle\n",
    "print(\"diff_trigger_time\", diff_trigger_time)"
   ]
  },
  {
   "cell_type": "code",
   "execution_count": null,
   "metadata": {},
   "outputs": [],
   "source": []
  }
 ],
 "metadata": {
  "kernelspec": {
   "display_name": "jim",
   "language": "python",
   "name": "python3"
  },
  "language_info": {
   "codemirror_mode": {
    "name": "ipython",
    "version": 3
   },
   "file_extension": ".py",
   "mimetype": "text/x-python",
   "name": "python",
   "nbconvert_exporter": "python",
   "pygments_lexer": "ipython3",
   "version": "3.10.13"
  },
  "orig_nbformat": 4
 },
 "nbformat": 4,
 "nbformat_minor": 2
}
